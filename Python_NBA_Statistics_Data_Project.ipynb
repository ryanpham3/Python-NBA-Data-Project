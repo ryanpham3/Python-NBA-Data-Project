{
  "nbformat": 4,
  "nbformat_minor": 0,
  "metadata": {
    "colab": {
      "name": "Python NBA Statistics Data Project",
      "provenance": []
    },
    "kernelspec": {
      "name": "python3",
      "display_name": "Python 3"
    },
    "language_info": {
      "name": "python"
    }
  },
  "cells": [
    {
      "cell_type": "markdown",
      "metadata": {
        "id": "am70iOFAdisY"
      },
      "source": [
        "# Load the DataSet\n"
      ]
    },
    {
      "cell_type": "code",
      "metadata": {
        "id": "7iwNA8uOV09L"
      },
      "source": [
        "import pandas as pd\n",
        "import seaborn as sns\n",
        "import matplotlib.pyplot as plt"
      ],
      "execution_count": 2,
      "outputs": []
    },
    {
      "cell_type": "code",
      "metadata": {
        "id": "0f4VkuYSc5LK"
      },
      "source": [
        "file_path = '/content/drive/MyDrive/players_stats.csv'"
      ],
      "execution_count": 3,
      "outputs": []
    },
    {
      "cell_type": "code",
      "metadata": {
        "colab": {
          "base_uri": "https://localhost:8080/"
        },
        "id": "Am-VwqiQXM3M",
        "outputId": "513077d5-a0d6-4d1b-bc0c-5f446d0a5e65"
      },
      "source": [
        "from google.colab import drive\n",
        "drive.mount('/content/drive')\n"
      ],
      "execution_count": 4,
      "outputs": [
        {
          "output_type": "stream",
          "name": "stdout",
          "text": [
            "Mounted at /content/drive\n"
          ]
        }
      ]
    },
    {
      "cell_type": "code",
      "metadata": {
        "id": "4-YdmobbdJWY"
      },
      "source": [
        "nba_df = pd.read_csv(file_path)"
      ],
      "execution_count": 5,
      "outputs": []
    },
    {
      "cell_type": "markdown",
      "metadata": {
        "id": "3BzGMM4ikXTI"
      },
      "source": [
        "# Remove all categorical variables and remove records with missing numerical measurements"
      ]
    },
    {
      "cell_type": "code",
      "metadata": {
        "id": "p9OsyBrQiHLW"
      },
      "source": [
        "nba_df =nba_df.select_dtypes(include=['float', 'int64', 'string'])"
      ],
      "execution_count": 8,
      "outputs": []
    },
    {
      "cell_type": "code",
      "metadata": {
        "id": "JIwZsCwCipyI"
      },
      "source": [
        "nba_df = nba_df.dropna()"
      ],
      "execution_count": 9,
      "outputs": []
    },
    {
      "cell_type": "code",
      "metadata": {
        "colab": {
          "base_uri": "https://localhost:8080/",
          "height": 236
        },
        "id": "eNmy0Bi6cUA_",
        "outputId": "5b978737-0752-4511-845d-7c373464e16c"
      },
      "source": [
        "nba_df.head()"
      ],
      "execution_count": 10,
      "outputs": [
        {
          "output_type": "execute_result",
          "data": {
            "text/plain": [
              "   Games Played   MIN   PTS  FGM  FGA   FG%  3PM  3PA   3P%  FTM  ...  BLK  \\\n",
              "0            26   324   133   51  137  37.2   15   57  26.3   16  ...    0   \n",
              "1            82  1885   954  344  817  42.1  121  313  38.7  145  ...   15   \n",
              "2            47   797   243   93  208  44.7   13   48  27.1   44  ...   22   \n",
              "3            32   740   213   91  220  41.4    1    9  11.1   30  ...    9   \n",
              "4            76  2318  1156  519  965  53.8   11   36  30.6  107  ...   98   \n",
              "\n",
              "   TOV   PF   EFF  AST/TOV  STL/TOV   Age  Height  Weight        BMI  \n",
              "0   14   15   110     3.29     0.50  29.0   185.0   81.45  23.798393  \n",
              "1  157  189   791     1.66     0.34  30.0   180.0   72.45  22.361111  \n",
              "2   38   83   318     0.87     0.55  20.0   202.5   99.00  24.142661  \n",
              "3   44   88   244     0.68     0.43  24.0   205.0  106.65  25.377751  \n",
              "4  100  121  1530     2.44     0.68  29.0   205.0  110.25  26.234384  \n",
              "\n",
              "[5 rows x 27 columns]"
            ],
            "text/html": [
              "\n",
              "  <div id=\"df-de5ce95c-05d9-4b2d-b834-40769f6ebe72\">\n",
              "    <div class=\"colab-df-container\">\n",
              "      <div>\n",
              "<style scoped>\n",
              "    .dataframe tbody tr th:only-of-type {\n",
              "        vertical-align: middle;\n",
              "    }\n",
              "\n",
              "    .dataframe tbody tr th {\n",
              "        vertical-align: top;\n",
              "    }\n",
              "\n",
              "    .dataframe thead th {\n",
              "        text-align: right;\n",
              "    }\n",
              "</style>\n",
              "<table border=\"1\" class=\"dataframe\">\n",
              "  <thead>\n",
              "    <tr style=\"text-align: right;\">\n",
              "      <th></th>\n",
              "      <th>Games Played</th>\n",
              "      <th>MIN</th>\n",
              "      <th>PTS</th>\n",
              "      <th>FGM</th>\n",
              "      <th>FGA</th>\n",
              "      <th>FG%</th>\n",
              "      <th>3PM</th>\n",
              "      <th>3PA</th>\n",
              "      <th>3P%</th>\n",
              "      <th>FTM</th>\n",
              "      <th>...</th>\n",
              "      <th>BLK</th>\n",
              "      <th>TOV</th>\n",
              "      <th>PF</th>\n",
              "      <th>EFF</th>\n",
              "      <th>AST/TOV</th>\n",
              "      <th>STL/TOV</th>\n",
              "      <th>Age</th>\n",
              "      <th>Height</th>\n",
              "      <th>Weight</th>\n",
              "      <th>BMI</th>\n",
              "    </tr>\n",
              "  </thead>\n",
              "  <tbody>\n",
              "    <tr>\n",
              "      <th>0</th>\n",
              "      <td>26</td>\n",
              "      <td>324</td>\n",
              "      <td>133</td>\n",
              "      <td>51</td>\n",
              "      <td>137</td>\n",
              "      <td>37.2</td>\n",
              "      <td>15</td>\n",
              "      <td>57</td>\n",
              "      <td>26.3</td>\n",
              "      <td>16</td>\n",
              "      <td>...</td>\n",
              "      <td>0</td>\n",
              "      <td>14</td>\n",
              "      <td>15</td>\n",
              "      <td>110</td>\n",
              "      <td>3.29</td>\n",
              "      <td>0.50</td>\n",
              "      <td>29.0</td>\n",
              "      <td>185.0</td>\n",
              "      <td>81.45</td>\n",
              "      <td>23.798393</td>\n",
              "    </tr>\n",
              "    <tr>\n",
              "      <th>1</th>\n",
              "      <td>82</td>\n",
              "      <td>1885</td>\n",
              "      <td>954</td>\n",
              "      <td>344</td>\n",
              "      <td>817</td>\n",
              "      <td>42.1</td>\n",
              "      <td>121</td>\n",
              "      <td>313</td>\n",
              "      <td>38.7</td>\n",
              "      <td>145</td>\n",
              "      <td>...</td>\n",
              "      <td>15</td>\n",
              "      <td>157</td>\n",
              "      <td>189</td>\n",
              "      <td>791</td>\n",
              "      <td>1.66</td>\n",
              "      <td>0.34</td>\n",
              "      <td>30.0</td>\n",
              "      <td>180.0</td>\n",
              "      <td>72.45</td>\n",
              "      <td>22.361111</td>\n",
              "    </tr>\n",
              "    <tr>\n",
              "      <th>2</th>\n",
              "      <td>47</td>\n",
              "      <td>797</td>\n",
              "      <td>243</td>\n",
              "      <td>93</td>\n",
              "      <td>208</td>\n",
              "      <td>44.7</td>\n",
              "      <td>13</td>\n",
              "      <td>48</td>\n",
              "      <td>27.1</td>\n",
              "      <td>44</td>\n",
              "      <td>...</td>\n",
              "      <td>22</td>\n",
              "      <td>38</td>\n",
              "      <td>83</td>\n",
              "      <td>318</td>\n",
              "      <td>0.87</td>\n",
              "      <td>0.55</td>\n",
              "      <td>20.0</td>\n",
              "      <td>202.5</td>\n",
              "      <td>99.00</td>\n",
              "      <td>24.142661</td>\n",
              "    </tr>\n",
              "    <tr>\n",
              "      <th>3</th>\n",
              "      <td>32</td>\n",
              "      <td>740</td>\n",
              "      <td>213</td>\n",
              "      <td>91</td>\n",
              "      <td>220</td>\n",
              "      <td>41.4</td>\n",
              "      <td>1</td>\n",
              "      <td>9</td>\n",
              "      <td>11.1</td>\n",
              "      <td>30</td>\n",
              "      <td>...</td>\n",
              "      <td>9</td>\n",
              "      <td>44</td>\n",
              "      <td>88</td>\n",
              "      <td>244</td>\n",
              "      <td>0.68</td>\n",
              "      <td>0.43</td>\n",
              "      <td>24.0</td>\n",
              "      <td>205.0</td>\n",
              "      <td>106.65</td>\n",
              "      <td>25.377751</td>\n",
              "    </tr>\n",
              "    <tr>\n",
              "      <th>4</th>\n",
              "      <td>76</td>\n",
              "      <td>2318</td>\n",
              "      <td>1156</td>\n",
              "      <td>519</td>\n",
              "      <td>965</td>\n",
              "      <td>53.8</td>\n",
              "      <td>11</td>\n",
              "      <td>36</td>\n",
              "      <td>30.6</td>\n",
              "      <td>107</td>\n",
              "      <td>...</td>\n",
              "      <td>98</td>\n",
              "      <td>100</td>\n",
              "      <td>121</td>\n",
              "      <td>1530</td>\n",
              "      <td>2.44</td>\n",
              "      <td>0.68</td>\n",
              "      <td>29.0</td>\n",
              "      <td>205.0</td>\n",
              "      <td>110.25</td>\n",
              "      <td>26.234384</td>\n",
              "    </tr>\n",
              "  </tbody>\n",
              "</table>\n",
              "<p>5 rows × 27 columns</p>\n",
              "</div>\n",
              "      <button class=\"colab-df-convert\" onclick=\"convertToInteractive('df-de5ce95c-05d9-4b2d-b834-40769f6ebe72')\"\n",
              "              title=\"Convert this dataframe to an interactive table.\"\n",
              "              style=\"display:none;\">\n",
              "        \n",
              "  <svg xmlns=\"http://www.w3.org/2000/svg\" height=\"24px\"viewBox=\"0 0 24 24\"\n",
              "       width=\"24px\">\n",
              "    <path d=\"M0 0h24v24H0V0z\" fill=\"none\"/>\n",
              "    <path d=\"M18.56 5.44l.94 2.06.94-2.06 2.06-.94-2.06-.94-.94-2.06-.94 2.06-2.06.94zm-11 1L8.5 8.5l.94-2.06 2.06-.94-2.06-.94L8.5 2.5l-.94 2.06-2.06.94zm10 10l.94 2.06.94-2.06 2.06-.94-2.06-.94-.94-2.06-.94 2.06-2.06.94z\"/><path d=\"M17.41 7.96l-1.37-1.37c-.4-.4-.92-.59-1.43-.59-.52 0-1.04.2-1.43.59L10.3 9.45l-7.72 7.72c-.78.78-.78 2.05 0 2.83L4 21.41c.39.39.9.59 1.41.59.51 0 1.02-.2 1.41-.59l7.78-7.78 2.81-2.81c.8-.78.8-2.07 0-2.86zM5.41 20L4 18.59l7.72-7.72 1.47 1.35L5.41 20z\"/>\n",
              "  </svg>\n",
              "      </button>\n",
              "      \n",
              "  <style>\n",
              "    .colab-df-container {\n",
              "      display:flex;\n",
              "      flex-wrap:wrap;\n",
              "      gap: 12px;\n",
              "    }\n",
              "\n",
              "    .colab-df-convert {\n",
              "      background-color: #E8F0FE;\n",
              "      border: none;\n",
              "      border-radius: 50%;\n",
              "      cursor: pointer;\n",
              "      display: none;\n",
              "      fill: #1967D2;\n",
              "      height: 32px;\n",
              "      padding: 0 0 0 0;\n",
              "      width: 32px;\n",
              "    }\n",
              "\n",
              "    .colab-df-convert:hover {\n",
              "      background-color: #E2EBFA;\n",
              "      box-shadow: 0px 1px 2px rgba(60, 64, 67, 0.3), 0px 1px 3px 1px rgba(60, 64, 67, 0.15);\n",
              "      fill: #174EA6;\n",
              "    }\n",
              "\n",
              "    [theme=dark] .colab-df-convert {\n",
              "      background-color: #3B4455;\n",
              "      fill: #D2E3FC;\n",
              "    }\n",
              "\n",
              "    [theme=dark] .colab-df-convert:hover {\n",
              "      background-color: #434B5C;\n",
              "      box-shadow: 0px 1px 3px 1px rgba(0, 0, 0, 0.15);\n",
              "      filter: drop-shadow(0px 1px 2px rgba(0, 0, 0, 0.3));\n",
              "      fill: #FFFFFF;\n",
              "    }\n",
              "  </style>\n",
              "\n",
              "      <script>\n",
              "        const buttonEl =\n",
              "          document.querySelector('#df-de5ce95c-05d9-4b2d-b834-40769f6ebe72 button.colab-df-convert');\n",
              "        buttonEl.style.display =\n",
              "          google.colab.kernel.accessAllowed ? 'block' : 'none';\n",
              "\n",
              "        async function convertToInteractive(key) {\n",
              "          const element = document.querySelector('#df-de5ce95c-05d9-4b2d-b834-40769f6ebe72');\n",
              "          const dataTable =\n",
              "            await google.colab.kernel.invokeFunction('convertToInteractive',\n",
              "                                                     [key], {});\n",
              "          if (!dataTable) return;\n",
              "\n",
              "          const docLinkHtml = 'Like what you see? Visit the ' +\n",
              "            '<a target=\"_blank\" href=https://colab.research.google.com/notebooks/data_table.ipynb>data table notebook</a>'\n",
              "            + ' to learn more about interactive tables.';\n",
              "          element.innerHTML = '';\n",
              "          dataTable['output_type'] = 'display_data';\n",
              "          await google.colab.output.renderOutput(dataTable, element);\n",
              "          const docLink = document.createElement('div');\n",
              "          docLink.innerHTML = docLinkHtml;\n",
              "          element.appendChild(docLink);\n",
              "        }\n",
              "      </script>\n",
              "    </div>\n",
              "  </div>\n",
              "  "
            ]
          },
          "metadata": {},
          "execution_count": 10
        }
      ]
    },
    {
      "cell_type": "markdown",
      "metadata": {
        "id": "Ad3X2G-QeC7E"
      },
      "source": [
        "# Conduct principal component analysis "
      ]
    },
    {
      "cell_type": "code",
      "metadata": {
        "id": "8peDbFEBd1uY"
      },
      "source": [
        "from sklearn.preprocessing import StandardScaler"
      ],
      "execution_count": 11,
      "outputs": []
    },
    {
      "cell_type": "code",
      "metadata": {
        "id": "BZ3jzqDFgd6v"
      },
      "source": [
        "scaler = StandardScaler()\n"
      ],
      "execution_count": 12,
      "outputs": []
    },
    {
      "cell_type": "code",
      "metadata": {
        "id": "svtZVCLWggzZ"
      },
      "source": [
        "scaled_nba = scaler.fit_transform(nba_df)"
      ],
      "execution_count": 13,
      "outputs": []
    },
    {
      "cell_type": "code",
      "metadata": {
        "id": "aQCP62mbfcp_"
      },
      "source": [
        "from sklearn.decomposition import PCA"
      ],
      "execution_count": 14,
      "outputs": []
    },
    {
      "cell_type": "code",
      "metadata": {
        "id": "ACxpG2sUfg65"
      },
      "source": [
        "pca = PCA()"
      ],
      "execution_count": 15,
      "outputs": []
    },
    {
      "cell_type": "code",
      "metadata": {
        "id": "CZrfS-PjfjOb"
      },
      "source": [
        "nba_pca = pca.fit_transform(nba_df)"
      ],
      "execution_count": 16,
      "outputs": []
    },
    {
      "cell_type": "code",
      "metadata": {
        "colab": {
          "base_uri": "https://localhost:8080/"
        },
        "id": "nMcJKNGVi6LA",
        "outputId": "2d739dde-6e9c-41bf-809a-20dc6f7269e6"
      },
      "source": [
        "nba_pca"
      ],
      "execution_count": 17,
      "outputs": [
        {
          "output_type": "execute_result",
          "data": {
            "text/plain": [
              "array([[-1.18633138e+03, -3.24850450e+01,  1.08014744e+02, ...,\n",
              "         1.57944379e-12, -5.59529847e-13, -3.12791222e-13],\n",
              "       [ 8.80359412e+02, -3.29624785e+02,  1.31470554e+02, ...,\n",
              "        -4.59649951e-13,  9.87561868e-14, -5.00945284e-13],\n",
              "       [-6.50109326e+02,  4.99436733e+01, -5.93856866e+01, ...,\n",
              "         1.78652271e-14,  1.10373560e-12, -5.57193586e-13],\n",
              "       ...,\n",
              "       [ 1.67226283e+03,  4.66204444e+02,  7.30321657e+01, ...,\n",
              "        -6.87955156e-15, -7.27708585e-15, -1.53355218e-14],\n",
              "       [ 6.29713198e+02,  2.86200581e+02, -1.64464232e+02, ...,\n",
              "         4.92543089e-14, -1.65465349e-15,  8.46087245e-14],\n",
              "       [-1.49755686e+03,  2.01651683e+01,  1.24950829e+02, ...,\n",
              "         8.19876441e-15, -2.35415706e-14,  5.55540888e-14]])"
            ]
          },
          "metadata": {},
          "execution_count": 17
        }
      ]
    },
    {
      "cell_type": "code",
      "metadata": {
        "colab": {
          "base_uri": "https://localhost:8080/"
        },
        "id": "0qbF1_8ji8_Z",
        "outputId": "9a904c3a-168f-481e-d651-dde073dfce8f"
      },
      "source": [
        "nba_pca.shape"
      ],
      "execution_count": 18,
      "outputs": [
        {
          "output_type": "execute_result",
          "data": {
            "text/plain": [
              "(422, 27)"
            ]
          },
          "metadata": {},
          "execution_count": 18
        }
      ]
    },
    {
      "cell_type": "markdown",
      "metadata": {
        "id": "npOf4qUplDFb"
      },
      "source": [
        "# Output and visualize the cummulative explained variance "
      ]
    },
    {
      "cell_type": "code",
      "metadata": {
        "colab": {
          "base_uri": "https://localhost:8080/"
        },
        "id": "Z5qqGx6vlEqC",
        "outputId": "39157574-2ba8-4e48-8601-f9c6f079cf33"
      },
      "source": [
        "pca.explained_variance_ratio_.round(2)"
      ],
      "execution_count": 19,
      "outputs": [
        {
          "output_type": "execute_result",
          "data": {
            "text/plain": [
              "array([0.92, 0.03, 0.03, 0.01, 0.  , 0.  , 0.  , 0.  , 0.  , 0.  , 0.  ,\n",
              "       0.  , 0.  , 0.  , 0.  , 0.  , 0.  , 0.  , 0.  , 0.  , 0.  , 0.  ,\n",
              "       0.  , 0.  , 0.  , 0.  , 0.  ])"
            ]
          },
          "metadata": {},
          "execution_count": 19
        }
      ]
    },
    {
      "cell_type": "code",
      "metadata": {
        "id": "PSiekFgTlG5C"
      },
      "source": [
        "import numpy as np"
      ],
      "execution_count": 20,
      "outputs": []
    },
    {
      "cell_type": "code",
      "metadata": {
        "colab": {
          "base_uri": "https://localhost:8080/"
        },
        "id": "SVkIpFpslKAG",
        "outputId": "4e47c101-0a7a-4ec7-f61c-8021e06a6833"
      },
      "source": [
        "np.cumsum(pca.explained_variance_ratio_).round(2)"
      ],
      "execution_count": 21,
      "outputs": [
        {
          "output_type": "execute_result",
          "data": {
            "text/plain": [
              "array([0.92, 0.95, 0.98, 0.99, 0.99, 1.  , 1.  , 1.  , 1.  , 1.  , 1.  ,\n",
              "       1.  , 1.  , 1.  , 1.  , 1.  , 1.  , 1.  , 1.  , 1.  , 1.  , 1.  ,\n",
              "       1.  , 1.  , 1.  , 1.  , 1.  ])"
            ]
          },
          "metadata": {},
          "execution_count": 21
        }
      ]
    },
    {
      "cell_type": "code",
      "metadata": {
        "colab": {
          "base_uri": "https://localhost:8080/",
          "height": 296
        },
        "id": "3o0wXrDXlLVp",
        "outputId": "ea436c04-4a49-42c8-8d05-f0c1c2a716b5"
      },
      "source": [
        "plt.plot(np.cumsum(pca.explained_variance_ratio_), marker = 'o')\n",
        "plt.xlabel('Number of Principle Components')\n",
        "plt.ylabel('Cumulative Explained Variance')"
      ],
      "execution_count": 22,
      "outputs": [
        {
          "output_type": "execute_result",
          "data": {
            "text/plain": [
              "Text(0, 0.5, 'Cumulative Explained Variance')"
            ]
          },
          "metadata": {},
          "execution_count": 22
        },
        {
          "output_type": "display_data",
          "data": {
            "text/plain": [
              "<Figure size 432x288 with 1 Axes>"
            ],
            "image/png": "[encoded data removed]"
          },
          "metadata": {
            "needs_background": "light"
          }
        }
      ]
    },
    {
      "cell_type": "markdown",
      "metadata": {
        "id": "R3y83H7ull99"
      },
      "source": [
        "# Partition data to X and y variables, use points as the target variable"
      ]
    },
    {
      "cell_type": "code",
      "metadata": {
        "colab": {
          "base_uri": "https://localhost:8080/"
        },
        "id": "z2xWpUg7lrC8",
        "outputId": "3bc6b171-4db7-4814-e7ee-a871cb6258b5"
      },
      "source": [
        "X = nba_df.loc[:, nba_df.columns != 'PTS']\n",
        "Y = nba_df['PTS']\n",
        "X.shape, Y.shape"
      ],
      "execution_count": 23,
      "outputs": [
        {
          "output_type": "execute_result",
          "data": {
            "text/plain": [
              "((422, 26), (422,))"
            ]
          },
          "metadata": {},
          "execution_count": 23
        }
      ]
    },
    {
      "cell_type": "markdown",
      "metadata": {
        "id": "EmZh9sjOn9Nb"
      },
      "source": [
        "# Split the data into training\\test datasets"
      ]
    },
    {
      "cell_type": "code",
      "metadata": {
        "id": "hK9bui6Ul9GN"
      },
      "source": [
        "from sklearn.model_selection import train_test_split"
      ],
      "execution_count": 24,
      "outputs": []
    },
    {
      "cell_type": "code",
      "metadata": {
        "id": "X9-turuemEad"
      },
      "source": [
        "X_train, X_test, Y_train, Y_test = train_test_split(X, Y, test_size=0.30, random_state=42)"
      ],
      "execution_count": 25,
      "outputs": []
    },
    {
      "cell_type": "markdown",
      "metadata": {
        "id": "K4BRrjdRoFfm"
      },
      "source": [
        "\n",
        "# Build MLR Model\n",
        "\n"
      ]
    },
    {
      "cell_type": "code",
      "metadata": {
        "id": "oFylX7rsmID8"
      },
      "source": [
        "from sklearn import linear_model"
      ],
      "execution_count": 26,
      "outputs": []
    },
    {
      "cell_type": "code",
      "metadata": {
        "id": "T3XEuFyLmJdg"
      },
      "source": [
        "linreg = linear_model.LinearRegression()"
      ],
      "execution_count": 27,
      "outputs": []
    },
    {
      "cell_type": "markdown",
      "metadata": {
        "id": "eVroRGeRpOH1"
      },
      "source": [
        "# Create dataframe of results of predicted, actual, and the residual error and vizualize the residuals"
      ]
    },
    {
      "cell_type": "code",
      "metadata": {
        "colab": {
          "base_uri": "https://localhost:8080/"
        },
        "id": "4s4NtOtDnyvM",
        "outputId": "16b0b068-8f7d-440d-dd51-5d256db15934"
      },
      "source": [
        "linreg.fit(X_train, Y_train)\n"
      ],
      "execution_count": 28,
      "outputs": [
        {
          "output_type": "execute_result",
          "data": {
            "text/plain": [
              "LinearRegression()"
            ]
          },
          "metadata": {},
          "execution_count": 28
        }
      ]
    },
    {
      "cell_type": "code",
      "metadata": {
        "id": "NOgXgEs6nz3I"
      },
      "source": [
        "points_Y_pred = linreg.predict(X_test)"
      ],
      "execution_count": 29,
      "outputs": []
    },
    {
      "cell_type": "code",
      "metadata": {
        "id": "i_LaGUrBoSgN"
      },
      "source": [
        "nba_result_df = pd.DataFrame( {'Predicted': points_Y_pred , 'Actual': Y_test, 'Residual': Y_test - points_Y_pred})"
      ],
      "execution_count": 30,
      "outputs": []
    },
    {
      "cell_type": "code",
      "metadata": {
        "colab": {
          "base_uri": "https://localhost:8080/",
          "height": 206
        },
        "id": "c1nM1R-joZuU",
        "outputId": "777a14d3-ce52-46f5-c1cc-dae6396e260b"
      },
      "source": [
        "nba_result_df.head()"
      ],
      "execution_count": 31,
      "outputs": [
        {
          "output_type": "execute_result",
          "data": {
            "text/plain": [
              "     Predicted  Actual      Residual\n",
              "167       16.0      16 -1.353584e-12\n",
              "387      580.0     580  4.547474e-13\n",
              "207      172.0     172 -9.094947e-13\n",
              "431      145.0     145 -9.663381e-13\n",
              "486      778.0     778  3.410605e-13"
            ],
            "text/html": [
              "\n",
              "  <div id=\"df-caa395a8-fe8f-4e92-9184-f6e52db91376\">\n",
              "    <div class=\"colab-df-container\">\n",
              "      <div>\n",
              "<style scoped>\n",
              "    .dataframe tbody tr th:only-of-type {\n",
              "        vertical-align: middle;\n",
              "    }\n",
              "\n",
              "    .dataframe tbody tr th {\n",
              "        vertical-align: top;\n",
              "    }\n",
              "\n",
              "    .dataframe thead th {\n",
              "        text-align: right;\n",
              "    }\n",
              "</style>\n",
              "<table border=\"1\" class=\"dataframe\">\n",
              "  <thead>\n",
              "    <tr style=\"text-align: right;\">\n",
              "      <th></th>\n",
              "      <th>Predicted</th>\n",
              "      <th>Actual</th>\n",
              "      <th>Residual</th>\n",
              "    </tr>\n",
              "  </thead>\n",
              "  <tbody>\n",
              "    <tr>\n",
              "      <th>167</th>\n",
              "      <td>16.0</td>\n",
              "      <td>16</td>\n",
              "      <td>-1.353584e-12</td>\n",
              "    </tr>\n",
              "    <tr>\n",
              "      <th>387</th>\n",
              "      <td>580.0</td>\n",
              "      <td>580</td>\n",
              "      <td>4.547474e-13</td>\n",
              "    </tr>\n",
              "    <tr>\n",
              "      <th>207</th>\n",
              "      <td>172.0</td>\n",
              "      <td>172</td>\n",
              "      <td>-9.094947e-13</td>\n",
              "    </tr>\n",
              "    <tr>\n",
              "      <th>431</th>\n",
              "      <td>145.0</td>\n",
              "      <td>145</td>\n",
              "      <td>-9.663381e-13</td>\n",
              "    </tr>\n",
              "    <tr>\n",
              "      <th>486</th>\n",
              "      <td>778.0</td>\n",
              "      <td>778</td>\n",
              "      <td>3.410605e-13</td>\n",
              "    </tr>\n",
              "  </tbody>\n",
              "</table>\n",
              "</div>\n",
              "      <button class=\"colab-df-convert\" onclick=\"convertToInteractive('df-caa395a8-fe8f-4e92-9184-f6e52db91376')\"\n",
              "              title=\"Convert this dataframe to an interactive table.\"\n",
              "              style=\"display:none;\">\n",
              "        \n",
              "  <svg xmlns=\"http://www.w3.org/2000/svg\" height=\"24px\"viewBox=\"0 0 24 24\"\n",
              "       width=\"24px\">\n",
              "    <path d=\"M0 0h24v24H0V0z\" fill=\"none\"/>\n",
              "    <path d=\"M18.56 5.44l.94 2.06.94-2.06 2.06-.94-2.06-.94-.94-2.06-.94 2.06-2.06.94zm-11 1L8.5 8.5l.94-2.06 2.06-.94-2.06-.94L8.5 2.5l-.94 2.06-2.06.94zm10 10l.94 2.06.94-2.06 2.06-.94-2.06-.94-.94-2.06-.94 2.06-2.06.94z\"/><path d=\"M17.41 7.96l-1.37-1.37c-.4-.4-.92-.59-1.43-.59-.52 0-1.04.2-1.43.59L10.3 9.45l-7.72 7.72c-.78.78-.78 2.05 0 2.83L4 21.41c.39.39.9.59 1.41.59.51 0 1.02-.2 1.41-.59l7.78-7.78 2.81-2.81c.8-.78.8-2.07 0-2.86zM5.41 20L4 18.59l7.72-7.72 1.47 1.35L5.41 20z\"/>\n",
              "  </svg>\n",
              "      </button>\n",
              "      \n",
              "  <style>\n",
              "    .colab-df-container {\n",
              "      display:flex;\n",
              "      flex-wrap:wrap;\n",
              "      gap: 12px;\n",
              "    }\n",
              "\n",
              "    .colab-df-convert {\n",
              "      background-color: #E8F0FE;\n",
              "      border: none;\n",
              "      border-radius: 50%;\n",
              "      cursor: pointer;\n",
              "      display: none;\n",
              "      fill: #1967D2;\n",
              "      height: 32px;\n",
              "      padding: 0 0 0 0;\n",
              "      width: 32px;\n",
              "    }\n",
              "\n",
              "    .colab-df-convert:hover {\n",
              "      background-color: #E2EBFA;\n",
              "      box-shadow: 0px 1px 2px rgba(60, 64, 67, 0.3), 0px 1px 3px 1px rgba(60, 64, 67, 0.15);\n",
              "      fill: #174EA6;\n",
              "    }\n",
              "\n",
              "    [theme=dark] .colab-df-convert {\n",
              "      background-color: #3B4455;\n",
              "      fill: #D2E3FC;\n",
              "    }\n",
              "\n",
              "    [theme=dark] .colab-df-convert:hover {\n",
              "      background-color: #434B5C;\n",
              "      box-shadow: 0px 1px 3px 1px rgba(0, 0, 0, 0.15);\n",
              "      filter: drop-shadow(0px 1px 2px rgba(0, 0, 0, 0.3));\n",
              "      fill: #FFFFFF;\n",
              "    }\n",
              "  </style>\n",
              "\n",
              "      <script>\n",
              "        const buttonEl =\n",
              "          document.querySelector('#df-caa395a8-fe8f-4e92-9184-f6e52db91376 button.colab-df-convert');\n",
              "        buttonEl.style.display =\n",
              "          google.colab.kernel.accessAllowed ? 'block' : 'none';\n",
              "\n",
              "        async function convertToInteractive(key) {\n",
              "          const element = document.querySelector('#df-caa395a8-fe8f-4e92-9184-f6e52db91376');\n",
              "          const dataTable =\n",
              "            await google.colab.kernel.invokeFunction('convertToInteractive',\n",
              "                                                     [key], {});\n",
              "          if (!dataTable) return;\n",
              "\n",
              "          const docLinkHtml = 'Like what you see? Visit the ' +\n",
              "            '<a target=\"_blank\" href=https://colab.research.google.com/notebooks/data_table.ipynb>data table notebook</a>'\n",
              "            + ' to learn more about interactive tables.';\n",
              "          element.innerHTML = '';\n",
              "          dataTable['output_type'] = 'display_data';\n",
              "          await google.colab.output.renderOutput(dataTable, element);\n",
              "          const docLink = document.createElement('div');\n",
              "          docLink.innerHTML = docLinkHtml;\n",
              "          element.appendChild(docLink);\n",
              "        }\n",
              "      </script>\n",
              "    </div>\n",
              "  </div>\n",
              "  "
            ]
          },
          "metadata": {},
          "execution_count": 31
        }
      ]
    },
    {
      "cell_type": "code",
      "metadata": {
        "colab": {
          "base_uri": "https://localhost:8080/",
          "height": 312
        },
        "id": "snfZbgyGohTJ",
        "outputId": "fe393ce7-e30c-4598-bb95-a33e0b6bc114"
      },
      "source": [
        "plt.scatter(nba_result_df.Predicted, nba_result_df.Residual, color='red', s=74)\n",
        "plt.title(\"Residuals for Regression Model\")\n",
        "plt.xlabel('Predicted value \\\"PTS\\\"')\n",
        "plt.ylabel(\"Residuals\")\n",
        "plt.axhline(y=0, color='blue', linestyle='-')"
      ],
      "execution_count": 32,
      "outputs": [
        {
          "output_type": "execute_result",
          "data": {
            "text/plain": [
              "<matplotlib.lines.Line2D at 0x7ff7a982bd10>"
            ]
          },
          "metadata": {},
          "execution_count": 32
        },
        {
          "output_type": "display_data",
          "data": {
            "text/plain": [
              "<Figure size 432x288 with 1 Axes>"
            ],
            "image/png": "[encoded data removed]"
          },
          "metadata": {
            "needs_background": "light"
          }
        }
      ]
    },
    {
      "cell_type": "code",
      "metadata": {
        "id": "8QyNq8r5ovKY"
      },
      "source": [
        "from sklearn import metrics"
      ],
      "execution_count": 33,
      "outputs": []
    },
    {
      "cell_type": "code",
      "metadata": {
        "colab": {
          "base_uri": "https://localhost:8080/"
        },
        "id": "bZ8FXbW1owus",
        "outputId": "496c6fe5-5004-40cd-e1d8-7d57e48c69c1"
      },
      "source": [
        "print('R2 :', metrics.r2_score(Y_test, points_Y_pred).round(2))\n",
        "print('MSE :', metrics.mean_squared_error(Y_test, points_Y_pred).round(2))\n",
        "print('RMSE :', np.sqrt(metrics.mean_squared_error(Y_test, points_Y_pred)).round(2))"
      ],
      "execution_count": 34,
      "outputs": [
        {
          "output_type": "stream",
          "name": "stdout",
          "text": [
            "R2 : 1.0\n",
            "MSE : 0.0\n",
            "RMSE : 0.0\n"
          ]
        }
      ]
    },
    {
      "cell_type": "markdown",
      "metadata": {
        "id": "XbL3HzAnpawl"
      },
      "source": [
        "# Display average value for each numeric column"
      ]
    },
    {
      "cell_type": "code",
      "metadata": {
        "colab": {
          "base_uri": "https://localhost:8080/"
        },
        "id": "czpPms_UpWOc",
        "outputId": "575aeceb-75bb-4fef-ea49-ba97518bc2f3"
      },
      "source": [
        "nba_df.mean()"
      ],
      "execution_count": 35,
      "outputs": [
        {
          "output_type": "execute_result",
          "data": {
            "text/plain": [
              "Games Played      53.748815\n",
              "MIN             1246.649289\n",
              "PTS              515.890995\n",
              "FGM              193.327014\n",
              "FGA              430.000000\n",
              "FG%               43.098104\n",
              "3PM               41.298578\n",
              "3PA              117.433649\n",
              "3P%               25.916588\n",
              "FTM               87.938389\n",
              "FTA              116.677725\n",
              "FT%               70.694313\n",
              "OREB              55.035545\n",
              "DREB             167.355450\n",
              "REB              222.390995\n",
              "AST              114.317536\n",
              "STL               39.746445\n",
              "BLK               24.469194\n",
              "TOV               70.244076\n",
              "PF               103.492891\n",
              "EFF              581.158768\n",
              "AST/TOV            1.490995\n",
              "STL/TOV            0.628128\n",
              "Age               27.507109\n",
              "Height           197.440758\n",
              "Weight            99.469194\n",
              "BMI               25.427747\n",
              "dtype: float64"
            ]
          },
          "metadata": {},
          "execution_count": 35
        }
      ]
    },
    {
      "cell_type": "markdown",
      "metadata": {
        "id": "NbSW2UI3M-VZ"
      },
      "source": [
        "# Show correlation between each stat"
      ]
    },
    {
      "cell_type": "code",
      "metadata": {
        "colab": {
          "base_uri": "https://localhost:8080/",
          "height": 925
        },
        "id": "XqOzG6RGMjMX",
        "outputId": "b0731dda-72e0-4845-a547-155938af5d19"
      },
      "source": [
        "nba_df.corr()"
      ],
      "execution_count": 36,
      "outputs": [
        {
          "output_type": "execute_result",
          "data": {
            "text/plain": [
              "              Games Played       MIN       PTS       FGM       FGA       FG%  \\\n",
              "Games Played      1.000000  0.871285  0.725876  0.736263  0.739957  0.409323   \n",
              "MIN               0.871285  1.000000  0.921707  0.924815  0.928356  0.339299   \n",
              "PTS               0.725876  0.921707  1.000000  0.990168  0.988453  0.303771   \n",
              "FGM               0.736263  0.924815  0.990168  1.000000  0.986739  0.339387   \n",
              "FGA               0.739957  0.928356  0.988453  0.986739  1.000000  0.259011   \n",
              "FG%               0.409323  0.339299  0.303771  0.339387  0.259011  1.000000   \n",
              "3PM               0.492384  0.608798  0.627236  0.557984  0.635516 -0.034794   \n",
              "3PA               0.510746  0.623359  0.633761  0.564832  0.653092 -0.061988   \n",
              "3P%               0.214118  0.284761  0.307045  0.270643  0.323750 -0.072688   \n",
              "FTM               0.578137  0.777914  0.907741  0.865317  0.861136  0.264385   \n",
              "FTA               0.604005  0.795475  0.896624  0.866986  0.848340  0.321134   \n",
              "FT%               0.362166  0.340653  0.358350  0.332019  0.365490  0.168383   \n",
              "OREB              0.511984  0.542979  0.470081  0.529241  0.436832  0.503227   \n",
              "DREB              0.705819  0.812575  0.754834  0.791665  0.734812  0.455345   \n",
              "REB               0.669675  0.756231  0.691609  0.736846  0.666671  0.486887   \n",
              "AST               0.547605  0.709448  0.718234  0.694129  0.731652  0.103320   \n",
              "STL               0.683689  0.834104  0.796046  0.776337  0.797232  0.208809   \n",
              "BLK               0.446802  0.493768  0.443631  0.486511  0.402653  0.441469   \n",
              "TOV               0.703382  0.864992  0.878460  0.867660  0.879489  0.262326   \n",
              "PF                0.860870  0.869805  0.750224  0.772757  0.754016  0.418209   \n",
              "EFF               0.753495  0.923504  0.941144  0.951121  0.914239  0.418778   \n",
              "AST/TOV           0.169603  0.200303  0.165370  0.146042  0.195913 -0.123167   \n",
              "STL/TOV           0.002228 -0.056421 -0.108712 -0.119858 -0.107504 -0.080390   \n",
              "Age               0.139838  0.087547  0.063428  0.065786  0.061307  0.089074   \n",
              "Height            0.068284  0.009521 -0.016891  0.026565 -0.047915  0.366599   \n",
              "Weight            0.080360  0.033385  0.030831  0.077724  0.002796  0.383616   \n",
              "BMI               0.065185  0.052763  0.078018  0.105658  0.067171  0.216849   \n",
              "\n",
              "                   3PM       3PA       3P%       FTM  ...       BLK       TOV  \\\n",
              "Games Played  0.492384  0.510746  0.214118  0.578137  ...  0.446802  0.703382   \n",
              "MIN           0.608798  0.623359  0.284761  0.777914  ...  0.493768  0.864992   \n",
              "PTS           0.627236  0.633761  0.307045  0.907741  ...  0.443631  0.878460   \n",
              "FGM           0.557984  0.564832  0.270643  0.865317  ...  0.486511  0.867660   \n",
              "FGA           0.635516  0.653092  0.323750  0.861136  ...  0.402653  0.879489   \n",
              "FG%          -0.034794 -0.061988 -0.072688  0.264385  ...  0.441469  0.262326   \n",
              "3PM           1.000000  0.988613  0.548396  0.458636  ... -0.069609  0.507518   \n",
              "3PA           0.988613  1.000000  0.542164  0.471615  ... -0.077615  0.531583   \n",
              "3P%           0.548396  0.542164  1.000000  0.201227  ... -0.205576  0.226864   \n",
              "FTM           0.458636  0.471615  0.201227  1.000000  ...  0.427918  0.828488   \n",
              "FTA           0.389212  0.403584  0.145620  0.979913  ...  0.514189  0.834111   \n",
              "FT%           0.377501  0.383927  0.334052  0.321366  ...  0.010046  0.287082   \n",
              "OREB         -0.131669 -0.136736 -0.244429  0.437353  ...  0.783501  0.418578   \n",
              "DREB          0.212262  0.215269  0.009968  0.673737  ...  0.756594  0.686290   \n",
              "REB           0.110778  0.111331 -0.070378  0.622944  ...  0.792301  0.626009   \n",
              "AST           0.536600  0.560694  0.300860  0.664247  ...  0.108949  0.857271   \n",
              "STL           0.591560  0.614551  0.285045  0.713679  ...  0.315873  0.816414   \n",
              "BLK          -0.069609 -0.077615 -0.205576  0.427918  ...  1.000000  0.379678   \n",
              "TOV           0.507518  0.531583  0.226864  0.828488  ...  0.379678  1.000000   \n",
              "PF            0.391888  0.407844  0.098662  0.620178  ...  0.598245  0.762603   \n",
              "EFF           0.454883  0.454170  0.167843  0.861229  ...  0.636472  0.859910   \n",
              "AST/TOV       0.288291  0.306489  0.343684  0.111254  ... -0.205057  0.205240   \n",
              "STL/TOV       0.054799  0.058831  0.090898 -0.123127  ... -0.091019 -0.204823   \n",
              "Age           0.074057  0.060393  0.013422  0.028665  ... -0.020112  0.037106   \n",
              "Height       -0.301668 -0.324040 -0.355749 -0.007247  ...  0.459850 -0.100874   \n",
              "Weight       -0.304422 -0.326490 -0.425045  0.040284  ...  0.440986 -0.053180   \n",
              "BMI          -0.153515 -0.164209 -0.306359  0.082334  ...  0.205387  0.030657   \n",
              "\n",
              "                    PF       EFF   AST/TOV   STL/TOV       Age    Height  \\\n",
              "Games Played  0.860870  0.753495  0.169603  0.002228  0.139838  0.068284   \n",
              "MIN           0.869805  0.923504  0.200303 -0.056421  0.087547  0.009521   \n",
              "PTS           0.750224  0.941144  0.165370 -0.108712  0.063428 -0.016891   \n",
              "FGM           0.772757  0.951121  0.146042 -0.119858  0.065786  0.026565   \n",
              "FGA           0.754016  0.914239  0.195913 -0.107504  0.061307 -0.047915   \n",
              "FG%           0.418209  0.418778 -0.123167 -0.080390  0.089074  0.366599   \n",
              "3PM           0.391888  0.454883  0.288291  0.054799  0.074057 -0.301668   \n",
              "3PA           0.407844  0.454170  0.306489  0.058831  0.060393 -0.324040   \n",
              "3P%           0.098662  0.167843  0.343684  0.090898  0.013422 -0.355749   \n",
              "FTM           0.620178  0.861229  0.111254 -0.123127  0.028665 -0.007247   \n",
              "FTA           0.675981  0.887683  0.069394 -0.125837  0.014015  0.050596   \n",
              "FT%           0.231032  0.279047  0.216202  0.115072  0.125314 -0.163939   \n",
              "OREB          0.672093  0.678439 -0.233280 -0.115782  0.007805  0.474897   \n",
              "DREB          0.815729  0.900163 -0.049732 -0.110748  0.090910  0.362503   \n",
              "REB           0.799458  0.862152 -0.109746 -0.116322  0.067811  0.411177   \n",
              "AST           0.526524  0.690434  0.523136 -0.103133  0.072277 -0.365807   \n",
              "STL           0.708109  0.787014  0.287113  0.179980  0.002393 -0.164263   \n",
              "BLK           0.598245  0.636472 -0.205057 -0.091019 -0.020112  0.459850   \n",
              "TOV           0.762603  0.859910  0.205240 -0.204823  0.037106 -0.100874   \n",
              "PF            1.000000  0.821672  0.033081 -0.082950  0.063582  0.186761   \n",
              "EFF           0.821672  1.000000  0.136235 -0.098526  0.079141  0.121254   \n",
              "AST/TOV       0.033081  0.136235  1.000000  0.253232  0.161413 -0.553118   \n",
              "STL/TOV      -0.082950 -0.098526  0.253232  1.000000  0.041021 -0.097829   \n",
              "Age           0.063582  0.079141  0.161413  0.041021  1.000000  0.025928   \n",
              "Height        0.186761  0.121254 -0.553118 -0.097829  0.025928  1.000000   \n",
              "Weight        0.223038  0.163886 -0.522809 -0.120563  0.090961  0.843514   \n",
              "BMI           0.167749  0.140113 -0.243488 -0.074902  0.133876  0.255305   \n",
              "\n",
              "                Weight       BMI  \n",
              "Games Played  0.080360  0.065185  \n",
              "MIN           0.033385  0.052763  \n",
              "PTS           0.030831  0.078018  \n",
              "FGM           0.077724  0.105658  \n",
              "FGA           0.002796  0.067171  \n",
              "FG%           0.383616  0.216849  \n",
              "3PM          -0.304422 -0.153515  \n",
              "3PA          -0.326490 -0.164209  \n",
              "3P%          -0.425045 -0.306359  \n",
              "FTM           0.040284  0.082334  \n",
              "FTA           0.103054  0.121570  \n",
              "FT%          -0.208143 -0.161516  \n",
              "OREB          0.496505  0.286905  \n",
              "DREB          0.381923  0.228142  \n",
              "REB           0.431989  0.254977  \n",
              "AST          -0.294313 -0.068368  \n",
              "STL          -0.137480 -0.034605  \n",
              "BLK           0.440986  0.205387  \n",
              "TOV          -0.053180  0.030657  \n",
              "PF            0.223038  0.167749  \n",
              "EFF           0.163886  0.140113  \n",
              "AST/TOV      -0.522809 -0.243488  \n",
              "STL/TOV      -0.120563 -0.074902  \n",
              "Age           0.090961  0.133876  \n",
              "Height        0.843514  0.255305  \n",
              "Weight        1.000000  0.731797  \n",
              "BMI           0.731797  1.000000  \n",
              "\n",
              "[27 rows x 27 columns]"
            ],
            "text/html": [
              "\n",
              "  <div id=\"df-3477aa3a-0cb2-4a09-85fc-f7233446f85d\">\n",
              "    <div class=\"colab-df-container\">\n",
              "      <div>\n",
              "<style scoped>\n",
              "    .dataframe tbody tr th:only-of-type {\n",
              "        vertical-align: middle;\n",
              "    }\n",
              "\n",
              "    .dataframe tbody tr th {\n",
              "        vertical-align: top;\n",
              "    }\n",
              "\n",
              "    .dataframe thead th {\n",
              "        text-align: right;\n",
              "    }\n",
              "</style>\n",
              "<table border=\"1\" class=\"dataframe\">\n",
              "  <thead>\n",
              "    <tr style=\"text-align: right;\">\n",
              "      <th></th>\n",
              "      <th>Games Played</th>\n",
              "      <th>MIN</th>\n",
              "      <th>PTS</th>\n",
              "      <th>FGM</th>\n",
              "      <th>FGA</th>\n",
              "      <th>FG%</th>\n",
              "      <th>3PM</th>\n",
              "      <th>3PA</th>\n",
              "      <th>3P%</th>\n",
              "      <th>FTM</th>\n",
              "      <th>...</th>\n",
              "      <th>BLK</th>\n",
              "      <th>TOV</th>\n",
              "      <th>PF</th>\n",
              "      <th>EFF</th>\n",
              "      <th>AST/TOV</th>\n",
              "      <th>STL/TOV</th>\n",
              "      <th>Age</th>\n",
              "      <th>Height</th>\n",
              "      <th>Weight</th>\n",
              "      <th>BMI</th>\n",
              "    </tr>\n",
              "  </thead>\n",
              "  <tbody>\n",
              "    <tr>\n",
              "      <th>Games Played</th>\n",
              "      <td>1.000000</td>\n",
              "      <td>0.871285</td>\n",
              "      <td>0.725876</td>\n",
              "      <td>0.736263</td>\n",
              "      <td>0.739957</td>\n",
              "      <td>0.409323</td>\n",
              "      <td>0.492384</td>\n",
              "      <td>0.510746</td>\n",
              "      <td>0.214118</td>\n",
              "      <td>0.578137</td>\n",
              "      <td>...</td>\n",
              "      <td>0.446802</td>\n",
              "      <td>0.703382</td>\n",
              "      <td>0.860870</td>\n",
              "      <td>0.753495</td>\n",
              "      <td>0.169603</td>\n",
              "      <td>0.002228</td>\n",
              "      <td>0.139838</td>\n",
              "      <td>0.068284</td>\n",
              "      <td>0.080360</td>\n",
              "      <td>0.065185</td>\n",
              "    </tr>\n",
              "    <tr>\n",
              "      <th>MIN</th>\n",
              "      <td>0.871285</td>\n",
              "      <td>1.000000</td>\n",
              "      <td>0.921707</td>\n",
              "      <td>0.924815</td>\n",
              "      <td>0.928356</td>\n",
              "      <td>0.339299</td>\n",
              "      <td>0.608798</td>\n",
              "      <td>0.623359</td>\n",
              "      <td>0.284761</td>\n",
              "      <td>0.777914</td>\n",
              "      <td>...</td>\n",
              "      <td>0.493768</td>\n",
              "      <td>0.864992</td>\n",
              "      <td>0.869805</td>\n",
              "      <td>0.923504</td>\n",
              "      <td>0.200303</td>\n",
              "      <td>-0.056421</td>\n",
              "      <td>0.087547</td>\n",
              "      <td>0.009521</td>\n",
              "      <td>0.033385</td>\n",
              "      <td>0.052763</td>\n",
              "    </tr>\n",
              "    <tr>\n",
              "      <th>PTS</th>\n",
              "      <td>0.725876</td>\n",
              "      <td>0.921707</td>\n",
              "      <td>1.000000</td>\n",
              "      <td>0.990168</td>\n",
              "      <td>0.988453</td>\n",
              "      <td>0.303771</td>\n",
              "      <td>0.627236</td>\n",
              "      <td>0.633761</td>\n",
              "      <td>0.307045</td>\n",
              "      <td>0.907741</td>\n",
              "      <td>...</td>\n",
              "      <td>0.443631</td>\n",
              "      <td>0.878460</td>\n",
              "      <td>0.750224</td>\n",
              "      <td>0.941144</td>\n",
              "      <td>0.165370</td>\n",
              "      <td>-0.108712</td>\n",
              "      <td>0.063428</td>\n",
              "      <td>-0.016891</td>\n",
              "      <td>0.030831</td>\n",
              "      <td>0.078018</td>\n",
              "    </tr>\n",
              "    <tr>\n",
              "      <th>FGM</th>\n",
              "      <td>0.736263</td>\n",
              "      <td>0.924815</td>\n",
              "      <td>0.990168</td>\n",
              "      <td>1.000000</td>\n",
              "      <td>0.986739</td>\n",
              "      <td>0.339387</td>\n",
              "      <td>0.557984</td>\n",
              "      <td>0.564832</td>\n",
              "      <td>0.270643</td>\n",
              "      <td>0.865317</td>\n",
              "      <td>...</td>\n",
              "      <td>0.486511</td>\n",
              "      <td>0.867660</td>\n",
              "      <td>0.772757</td>\n",
              "      <td>0.951121</td>\n",
              "      <td>0.146042</td>\n",
              "      <td>-0.119858</td>\n",
              "      <td>0.065786</td>\n",
              "      <td>0.026565</td>\n",
              "      <td>0.077724</td>\n",
              "      <td>0.105658</td>\n",
              "    </tr>\n",
              "    <tr>\n",
              "      <th>FGA</th>\n",
              "      <td>0.739957</td>\n",
              "      <td>0.928356</td>\n",
              "      <td>0.988453</td>\n",
              "      <td>0.986739</td>\n",
              "      <td>1.000000</td>\n",
              "      <td>0.259011</td>\n",
              "      <td>0.635516</td>\n",
              "      <td>0.653092</td>\n",
              "      <td>0.323750</td>\n",
              "      <td>0.861136</td>\n",
              "      <td>...</td>\n",
              "      <td>0.402653</td>\n",
              "      <td>0.879489</td>\n",
              "      <td>0.754016</td>\n",
              "      <td>0.914239</td>\n",
              "      <td>0.195913</td>\n",
              "      <td>-0.107504</td>\n",
              "      <td>0.061307</td>\n",
              "      <td>-0.047915</td>\n",
              "      <td>0.002796</td>\n",
              "      <td>0.067171</td>\n",
              "    </tr>\n",
              "    <tr>\n",
              "      <th>FG%</th>\n",
              "      <td>0.409323</td>\n",
              "      <td>0.339299</td>\n",
              "      <td>0.303771</td>\n",
              "      <td>0.339387</td>\n",
              "      <td>0.259011</td>\n",
              "      <td>1.000000</td>\n",
              "      <td>-0.034794</td>\n",
              "      <td>-0.061988</td>\n",
              "      <td>-0.072688</td>\n",
              "      <td>0.264385</td>\n",
              "      <td>...</td>\n",
              "      <td>0.441469</td>\n",
              "      <td>0.262326</td>\n",
              "      <td>0.418209</td>\n",
              "      <td>0.418778</td>\n",
              "      <td>-0.123167</td>\n",
              "      <td>-0.080390</td>\n",
              "      <td>0.089074</td>\n",
              "      <td>0.366599</td>\n",
              "      <td>0.383616</td>\n",
              "      <td>0.216849</td>\n",
              "    </tr>\n",
              "    <tr>\n",
              "      <th>3PM</th>\n",
              "      <td>0.492384</td>\n",
              "      <td>0.608798</td>\n",
              "      <td>0.627236</td>\n",
              "      <td>0.557984</td>\n",
              "      <td>0.635516</td>\n",
              "      <td>-0.034794</td>\n",
              "      <td>1.000000</td>\n",
              "      <td>0.988613</td>\n",
              "      <td>0.548396</td>\n",
              "      <td>0.458636</td>\n",
              "      <td>...</td>\n",
              "      <td>-0.069609</td>\n",
              "      <td>0.507518</td>\n",
              "      <td>0.391888</td>\n",
              "      <td>0.454883</td>\n",
              "      <td>0.288291</td>\n",
              "      <td>0.054799</td>\n",
              "      <td>0.074057</td>\n",
              "      <td>-0.301668</td>\n",
              "      <td>-0.304422</td>\n",
              "      <td>-0.153515</td>\n",
              "    </tr>\n",
              "    <tr>\n",
              "      <th>3PA</th>\n",
              "      <td>0.510746</td>\n",
              "      <td>0.623359</td>\n",
              "      <td>0.633761</td>\n",
              "      <td>0.564832</td>\n",
              "      <td>0.653092</td>\n",
              "      <td>-0.061988</td>\n",
              "      <td>0.988613</td>\n",
              "      <td>1.000000</td>\n",
              "      <td>0.542164</td>\n",
              "      <td>0.471615</td>\n",
              "      <td>...</td>\n",
              "      <td>-0.077615</td>\n",
              "      <td>0.531583</td>\n",
              "      <td>0.407844</td>\n",
              "      <td>0.454170</td>\n",
              "      <td>0.306489</td>\n",
              "      <td>0.058831</td>\n",
              "      <td>0.060393</td>\n",
              "      <td>-0.324040</td>\n",
              "      <td>-0.326490</td>\n",
              "      <td>-0.164209</td>\n",
              "    </tr>\n",
              "    <tr>\n",
              "      <th>3P%</th>\n",
              "      <td>0.214118</td>\n",
              "      <td>0.284761</td>\n",
              "      <td>0.307045</td>\n",
              "      <td>0.270643</td>\n",
              "      <td>0.323750</td>\n",
              "      <td>-0.072688</td>\n",
              "      <td>0.548396</td>\n",
              "      <td>0.542164</td>\n",
              "      <td>1.000000</td>\n",
              "      <td>0.201227</td>\n",
              "      <td>...</td>\n",
              "      <td>-0.205576</td>\n",
              "      <td>0.226864</td>\n",
              "      <td>0.098662</td>\n",
              "      <td>0.167843</td>\n",
              "      <td>0.343684</td>\n",
              "      <td>0.090898</td>\n",
              "      <td>0.013422</td>\n",
              "      <td>-0.355749</td>\n",
              "      <td>-0.425045</td>\n",
              "      <td>-0.306359</td>\n",
              "    </tr>\n",
              "    <tr>\n",
              "      <th>FTM</th>\n",
              "      <td>0.578137</td>\n",
              "      <td>0.777914</td>\n",
              "      <td>0.907741</td>\n",
              "      <td>0.865317</td>\n",
              "      <td>0.861136</td>\n",
              "      <td>0.264385</td>\n",
              "      <td>0.458636</td>\n",
              "      <td>0.471615</td>\n",
              "      <td>0.201227</td>\n",
              "      <td>1.000000</td>\n",
              "      <td>...</td>\n",
              "      <td>0.427918</td>\n",
              "      <td>0.828488</td>\n",
              "      <td>0.620178</td>\n",
              "      <td>0.861229</td>\n",
              "      <td>0.111254</td>\n",
              "      <td>-0.123127</td>\n",
              "      <td>0.028665</td>\n",
              "      <td>-0.007247</td>\n",
              "      <td>0.040284</td>\n",
              "      <td>0.082334</td>\n",
              "    </tr>\n",
              "    <tr>\n",
              "      <th>FTA</th>\n",
              "      <td>0.604005</td>\n",
              "      <td>0.795475</td>\n",
              "      <td>0.896624</td>\n",
              "      <td>0.866986</td>\n",
              "      <td>0.848340</td>\n",
              "      <td>0.321134</td>\n",
              "      <td>0.389212</td>\n",
              "      <td>0.403584</td>\n",
              "      <td>0.145620</td>\n",
              "      <td>0.979913</td>\n",
              "      <td>...</td>\n",
              "      <td>0.514189</td>\n",
              "      <td>0.834111</td>\n",
              "      <td>0.675981</td>\n",
              "      <td>0.887683</td>\n",
              "      <td>0.069394</td>\n",
              "      <td>-0.125837</td>\n",
              "      <td>0.014015</td>\n",
              "      <td>0.050596</td>\n",
              "      <td>0.103054</td>\n",
              "      <td>0.121570</td>\n",
              "    </tr>\n",
              "    <tr>\n",
              "      <th>FT%</th>\n",
              "      <td>0.362166</td>\n",
              "      <td>0.340653</td>\n",
              "      <td>0.358350</td>\n",
              "      <td>0.332019</td>\n",
              "      <td>0.365490</td>\n",
              "      <td>0.168383</td>\n",
              "      <td>0.377501</td>\n",
              "      <td>0.383927</td>\n",
              "      <td>0.334052</td>\n",
              "      <td>0.321366</td>\n",
              "      <td>...</td>\n",
              "      <td>0.010046</td>\n",
              "      <td>0.287082</td>\n",
              "      <td>0.231032</td>\n",
              "      <td>0.279047</td>\n",
              "      <td>0.216202</td>\n",
              "      <td>0.115072</td>\n",
              "      <td>0.125314</td>\n",
              "      <td>-0.163939</td>\n",
              "      <td>-0.208143</td>\n",
              "      <td>-0.161516</td>\n",
              "    </tr>\n",
              "    <tr>\n",
              "      <th>OREB</th>\n",
              "      <td>0.511984</td>\n",
              "      <td>0.542979</td>\n",
              "      <td>0.470081</td>\n",
              "      <td>0.529241</td>\n",
              "      <td>0.436832</td>\n",
              "      <td>0.503227</td>\n",
              "      <td>-0.131669</td>\n",
              "      <td>-0.136736</td>\n",
              "      <td>-0.244429</td>\n",
              "      <td>0.437353</td>\n",
              "      <td>...</td>\n",
              "      <td>0.783501</td>\n",
              "      <td>0.418578</td>\n",
              "      <td>0.672093</td>\n",
              "      <td>0.678439</td>\n",
              "      <td>-0.233280</td>\n",
              "      <td>-0.115782</td>\n",
              "      <td>0.007805</td>\n",
              "      <td>0.474897</td>\n",
              "      <td>0.496505</td>\n",
              "      <td>0.286905</td>\n",
              "    </tr>\n",
              "    <tr>\n",
              "      <th>DREB</th>\n",
              "      <td>0.705819</td>\n",
              "      <td>0.812575</td>\n",
              "      <td>0.754834</td>\n",
              "      <td>0.791665</td>\n",
              "      <td>0.734812</td>\n",
              "      <td>0.455345</td>\n",
              "      <td>0.212262</td>\n",
              "      <td>0.215269</td>\n",
              "      <td>0.009968</td>\n",
              "      <td>0.673737</td>\n",
              "      <td>...</td>\n",
              "      <td>0.756594</td>\n",
              "      <td>0.686290</td>\n",
              "      <td>0.815729</td>\n",
              "      <td>0.900163</td>\n",
              "      <td>-0.049732</td>\n",
              "      <td>-0.110748</td>\n",
              "      <td>0.090910</td>\n",
              "      <td>0.362503</td>\n",
              "      <td>0.381923</td>\n",
              "      <td>0.228142</td>\n",
              "    </tr>\n",
              "    <tr>\n",
              "      <th>REB</th>\n",
              "      <td>0.669675</td>\n",
              "      <td>0.756231</td>\n",
              "      <td>0.691609</td>\n",
              "      <td>0.736846</td>\n",
              "      <td>0.666671</td>\n",
              "      <td>0.486887</td>\n",
              "      <td>0.110778</td>\n",
              "      <td>0.111331</td>\n",
              "      <td>-0.070378</td>\n",
              "      <td>0.622944</td>\n",
              "      <td>...</td>\n",
              "      <td>0.792301</td>\n",
              "      <td>0.626009</td>\n",
              "      <td>0.799458</td>\n",
              "      <td>0.862152</td>\n",
              "      <td>-0.109746</td>\n",
              "      <td>-0.116322</td>\n",
              "      <td>0.067811</td>\n",
              "      <td>0.411177</td>\n",
              "      <td>0.431989</td>\n",
              "      <td>0.254977</td>\n",
              "    </tr>\n",
              "    <tr>\n",
              "      <th>AST</th>\n",
              "      <td>0.547605</td>\n",
              "      <td>0.709448</td>\n",
              "      <td>0.718234</td>\n",
              "      <td>0.694129</td>\n",
              "      <td>0.731652</td>\n",
              "      <td>0.103320</td>\n",
              "      <td>0.536600</td>\n",
              "      <td>0.560694</td>\n",
              "      <td>0.300860</td>\n",
              "      <td>0.664247</td>\n",
              "      <td>...</td>\n",
              "      <td>0.108949</td>\n",
              "      <td>0.857271</td>\n",
              "      <td>0.526524</td>\n",
              "      <td>0.690434</td>\n",
              "      <td>0.523136</td>\n",
              "      <td>-0.103133</td>\n",
              "      <td>0.072277</td>\n",
              "      <td>-0.365807</td>\n",
              "      <td>-0.294313</td>\n",
              "      <td>-0.068368</td>\n",
              "    </tr>\n",
              "    <tr>\n",
              "      <th>STL</th>\n",
              "      <td>0.683689</td>\n",
              "      <td>0.834104</td>\n",
              "      <td>0.796046</td>\n",
              "      <td>0.776337</td>\n",
              "      <td>0.797232</td>\n",
              "      <td>0.208809</td>\n",
              "      <td>0.591560</td>\n",
              "      <td>0.614551</td>\n",
              "      <td>0.285045</td>\n",
              "      <td>0.713679</td>\n",
              "      <td>...</td>\n",
              "      <td>0.315873</td>\n",
              "      <td>0.816414</td>\n",
              "      <td>0.708109</td>\n",
              "      <td>0.787014</td>\n",
              "      <td>0.287113</td>\n",
              "      <td>0.179980</td>\n",
              "      <td>0.002393</td>\n",
              "      <td>-0.164263</td>\n",
              "      <td>-0.137480</td>\n",
              "      <td>-0.034605</td>\n",
              "    </tr>\n",
              "    <tr>\n",
              "      <th>BLK</th>\n",
              "      <td>0.446802</td>\n",
              "      <td>0.493768</td>\n",
              "      <td>0.443631</td>\n",
              "      <td>0.486511</td>\n",
              "      <td>0.402653</td>\n",
              "      <td>0.441469</td>\n",
              "      <td>-0.069609</td>\n",
              "      <td>-0.077615</td>\n",
              "      <td>-0.205576</td>\n",
              "      <td>0.427918</td>\n",
              "      <td>...</td>\n",
              "      <td>1.000000</td>\n",
              "      <td>0.379678</td>\n",
              "      <td>0.598245</td>\n",
              "      <td>0.636472</td>\n",
              "      <td>-0.205057</td>\n",
              "      <td>-0.091019</td>\n",
              "      <td>-0.020112</td>\n",
              "      <td>0.459850</td>\n",
              "      <td>0.440986</td>\n",
              "      <td>0.205387</td>\n",
              "    </tr>\n",
              "    <tr>\n",
              "      <th>TOV</th>\n",
              "      <td>0.703382</td>\n",
              "      <td>0.864992</td>\n",
              "      <td>0.878460</td>\n",
              "      <td>0.867660</td>\n",
              "      <td>0.879489</td>\n",
              "      <td>0.262326</td>\n",
              "      <td>0.507518</td>\n",
              "      <td>0.531583</td>\n",
              "      <td>0.226864</td>\n",
              "      <td>0.828488</td>\n",
              "      <td>...</td>\n",
              "      <td>0.379678</td>\n",
              "      <td>1.000000</td>\n",
              "      <td>0.762603</td>\n",
              "      <td>0.859910</td>\n",
              "      <td>0.205240</td>\n",
              "      <td>-0.204823</td>\n",
              "      <td>0.037106</td>\n",
              "      <td>-0.100874</td>\n",
              "      <td>-0.053180</td>\n",
              "      <td>0.030657</td>\n",
              "    </tr>\n",
              "    <tr>\n",
              "      <th>PF</th>\n",
              "      <td>0.860870</td>\n",
              "      <td>0.869805</td>\n",
              "      <td>0.750224</td>\n",
              "      <td>0.772757</td>\n",
              "      <td>0.754016</td>\n",
              "      <td>0.418209</td>\n",
              "      <td>0.391888</td>\n",
              "      <td>0.407844</td>\n",
              "      <td>0.098662</td>\n",
              "      <td>0.620178</td>\n",
              "      <td>...</td>\n",
              "      <td>0.598245</td>\n",
              "      <td>0.762603</td>\n",
              "      <td>1.000000</td>\n",
              "      <td>0.821672</td>\n",
              "      <td>0.033081</td>\n",
              "      <td>-0.082950</td>\n",
              "      <td>0.063582</td>\n",
              "      <td>0.186761</td>\n",
              "      <td>0.223038</td>\n",
              "      <td>0.167749</td>\n",
              "    </tr>\n",
              "    <tr>\n",
              "      <th>EFF</th>\n",
              "      <td>0.753495</td>\n",
              "      <td>0.923504</td>\n",
              "      <td>0.941144</td>\n",
              "      <td>0.951121</td>\n",
              "      <td>0.914239</td>\n",
              "      <td>0.418778</td>\n",
              "      <td>0.454883</td>\n",
              "      <td>0.454170</td>\n",
              "      <td>0.167843</td>\n",
              "      <td>0.861229</td>\n",
              "      <td>...</td>\n",
              "      <td>0.636472</td>\n",
              "      <td>0.859910</td>\n",
              "      <td>0.821672</td>\n",
              "      <td>1.000000</td>\n",
              "      <td>0.136235</td>\n",
              "      <td>-0.098526</td>\n",
              "      <td>0.079141</td>\n",
              "      <td>0.121254</td>\n",
              "      <td>0.163886</td>\n",
              "      <td>0.140113</td>\n",
              "    </tr>\n",
              "    <tr>\n",
              "      <th>AST/TOV</th>\n",
              "      <td>0.169603</td>\n",
              "      <td>0.200303</td>\n",
              "      <td>0.165370</td>\n",
              "      <td>0.146042</td>\n",
              "      <td>0.195913</td>\n",
              "      <td>-0.123167</td>\n",
              "      <td>0.288291</td>\n",
              "      <td>0.306489</td>\n",
              "      <td>0.343684</td>\n",
              "      <td>0.111254</td>\n",
              "      <td>...</td>\n",
              "      <td>-0.205057</td>\n",
              "      <td>0.205240</td>\n",
              "      <td>0.033081</td>\n",
              "      <td>0.136235</td>\n",
              "      <td>1.000000</td>\n",
              "      <td>0.253232</td>\n",
              "      <td>0.161413</td>\n",
              "      <td>-0.553118</td>\n",
              "      <td>-0.522809</td>\n",
              "      <td>-0.243488</td>\n",
              "    </tr>\n",
              "    <tr>\n",
              "      <th>STL/TOV</th>\n",
              "      <td>0.002228</td>\n",
              "      <td>-0.056421</td>\n",
              "      <td>-0.108712</td>\n",
              "      <td>-0.119858</td>\n",
              "      <td>-0.107504</td>\n",
              "      <td>-0.080390</td>\n",
              "      <td>0.054799</td>\n",
              "      <td>0.058831</td>\n",
              "      <td>0.090898</td>\n",
              "      <td>-0.123127</td>\n",
              "      <td>...</td>\n",
              "      <td>-0.091019</td>\n",
              "      <td>-0.204823</td>\n",
              "      <td>-0.082950</td>\n",
              "      <td>-0.098526</td>\n",
              "      <td>0.253232</td>\n",
              "      <td>1.000000</td>\n",
              "      <td>0.041021</td>\n",
              "      <td>-0.097829</td>\n",
              "      <td>-0.120563</td>\n",
              "      <td>-0.074902</td>\n",
              "    </tr>\n",
              "    <tr>\n",
              "      <th>Age</th>\n",
              "      <td>0.139838</td>\n",
              "      <td>0.087547</td>\n",
              "      <td>0.063428</td>\n",
              "      <td>0.065786</td>\n",
              "      <td>0.061307</td>\n",
              "      <td>0.089074</td>\n",
              "      <td>0.074057</td>\n",
              "      <td>0.060393</td>\n",
              "      <td>0.013422</td>\n",
              "      <td>0.028665</td>\n",
              "      <td>...</td>\n",
              "      <td>-0.020112</td>\n",
              "      <td>0.037106</td>\n",
              "      <td>0.063582</td>\n",
              "      <td>0.079141</td>\n",
              "      <td>0.161413</td>\n",
              "      <td>0.041021</td>\n",
              "      <td>1.000000</td>\n",
              "      <td>0.025928</td>\n",
              "      <td>0.090961</td>\n",
              "      <td>0.133876</td>\n",
              "    </tr>\n",
              "    <tr>\n",
              "      <th>Height</th>\n",
              "      <td>0.068284</td>\n",
              "      <td>0.009521</td>\n",
              "      <td>-0.016891</td>\n",
              "      <td>0.026565</td>\n",
              "      <td>-0.047915</td>\n",
              "      <td>0.366599</td>\n",
              "      <td>-0.301668</td>\n",
              "      <td>-0.324040</td>\n",
              "      <td>-0.355749</td>\n",
              "      <td>-0.007247</td>\n",
              "      <td>...</td>\n",
              "      <td>0.459850</td>\n",
              "      <td>-0.100874</td>\n",
              "      <td>0.186761</td>\n",
              "      <td>0.121254</td>\n",
              "      <td>-0.553118</td>\n",
              "      <td>-0.097829</td>\n",
              "      <td>0.025928</td>\n",
              "      <td>1.000000</td>\n",
              "      <td>0.843514</td>\n",
              "      <td>0.255305</td>\n",
              "    </tr>\n",
              "    <tr>\n",
              "      <th>Weight</th>\n",
              "      <td>0.080360</td>\n",
              "      <td>0.033385</td>\n",
              "      <td>0.030831</td>\n",
              "      <td>0.077724</td>\n",
              "      <td>0.002796</td>\n",
              "      <td>0.383616</td>\n",
              "      <td>-0.304422</td>\n",
              "      <td>-0.326490</td>\n",
              "      <td>-0.425045</td>\n",
              "      <td>0.040284</td>\n",
              "      <td>...</td>\n",
              "      <td>0.440986</td>\n",
              "      <td>-0.053180</td>\n",
              "      <td>0.223038</td>\n",
              "      <td>0.163886</td>\n",
              "      <td>-0.522809</td>\n",
              "      <td>-0.120563</td>\n",
              "      <td>0.090961</td>\n",
              "      <td>0.843514</td>\n",
              "      <td>1.000000</td>\n",
              "      <td>0.731797</td>\n",
              "    </tr>\n",
              "    <tr>\n",
              "      <th>BMI</th>\n",
              "      <td>0.065185</td>\n",
              "      <td>0.052763</td>\n",
              "      <td>0.078018</td>\n",
              "      <td>0.105658</td>\n",
              "      <td>0.067171</td>\n",
              "      <td>0.216849</td>\n",
              "      <td>-0.153515</td>\n",
              "      <td>-0.164209</td>\n",
              "      <td>-0.306359</td>\n",
              "      <td>0.082334</td>\n",
              "      <td>...</td>\n",
              "      <td>0.205387</td>\n",
              "      <td>0.030657</td>\n",
              "      <td>0.167749</td>\n",
              "      <td>0.140113</td>\n",
              "      <td>-0.243488</td>\n",
              "      <td>-0.074902</td>\n",
              "      <td>0.133876</td>\n",
              "      <td>0.255305</td>\n",
              "      <td>0.731797</td>\n",
              "      <td>1.000000</td>\n",
              "    </tr>\n",
              "  </tbody>\n",
              "</table>\n",
              "<p>27 rows × 27 columns</p>\n",
              "</div>\n",
              "      <button class=\"colab-df-convert\" onclick=\"convertToInteractive('df-3477aa3a-0cb2-4a09-85fc-f7233446f85d')\"\n",
              "              title=\"Convert this dataframe to an interactive table.\"\n",
              "              style=\"display:none;\">\n",
              "        \n",
              "  <svg xmlns=\"http://www.w3.org/2000/svg\" height=\"24px\"viewBox=\"0 0 24 24\"\n",
              "       width=\"24px\">\n",
              "    <path d=\"M0 0h24v24H0V0z\" fill=\"none\"/>\n",
              "    <path d=\"M18.56 5.44l.94 2.06.94-2.06 2.06-.94-2.06-.94-.94-2.06-.94 2.06-2.06.94zm-11 1L8.5 8.5l.94-2.06 2.06-.94-2.06-.94L8.5 2.5l-.94 2.06-2.06.94zm10 10l.94 2.06.94-2.06 2.06-.94-2.06-.94-.94-2.06-.94 2.06-2.06.94z\"/><path d=\"M17.41 7.96l-1.37-1.37c-.4-.4-.92-.59-1.43-.59-.52 0-1.04.2-1.43.59L10.3 9.45l-7.72 7.72c-.78.78-.78 2.05 0 2.83L4 21.41c.39.39.9.59 1.41.59.51 0 1.02-.2 1.41-.59l7.78-7.78 2.81-2.81c.8-.78.8-2.07 0-2.86zM5.41 20L4 18.59l7.72-7.72 1.47 1.35L5.41 20z\"/>\n",
              "  </svg>\n",
              "      </button>\n",
              "      \n",
              "  <style>\n",
              "    .colab-df-container {\n",
              "      display:flex;\n",
              "      flex-wrap:wrap;\n",
              "      gap: 12px;\n",
              "    }\n",
              "\n",
              "    .colab-df-convert {\n",
              "      background-color: #E8F0FE;\n",
              "      border: none;\n",
              "      border-radius: 50%;\n",
              "      cursor: pointer;\n",
              "      display: none;\n",
              "      fill: #1967D2;\n",
              "      height: 32px;\n",
              "      padding: 0 0 0 0;\n",
              "      width: 32px;\n",
              "    }\n",
              "\n",
              "    .colab-df-convert:hover {\n",
              "      background-color: #E2EBFA;\n",
              "      box-shadow: 0px 1px 2px rgba(60, 64, 67, 0.3), 0px 1px 3px 1px rgba(60, 64, 67, 0.15);\n",
              "      fill: #174EA6;\n",
              "    }\n",
              "\n",
              "    [theme=dark] .colab-df-convert {\n",
              "      background-color: #3B4455;\n",
              "      fill: #D2E3FC;\n",
              "    }\n",
              "\n",
              "    [theme=dark] .colab-df-convert:hover {\n",
              "      background-color: #434B5C;\n",
              "      box-shadow: 0px 1px 3px 1px rgba(0, 0, 0, 0.15);\n",
              "      filter: drop-shadow(0px 1px 2px rgba(0, 0, 0, 0.3));\n",
              "      fill: #FFFFFF;\n",
              "    }\n",
              "  </style>\n",
              "\n",
              "      <script>\n",
              "        const buttonEl =\n",
              "          document.querySelector('#df-3477aa3a-0cb2-4a09-85fc-f7233446f85d button.colab-df-convert');\n",
              "        buttonEl.style.display =\n",
              "          google.colab.kernel.accessAllowed ? 'block' : 'none';\n",
              "\n",
              "        async function convertToInteractive(key) {\n",
              "          const element = document.querySelector('#df-3477aa3a-0cb2-4a09-85fc-f7233446f85d');\n",
              "          const dataTable =\n",
              "            await google.colab.kernel.invokeFunction('convertToInteractive',\n",
              "                                                     [key], {});\n",
              "          if (!dataTable) return;\n",
              "\n",
              "          const docLinkHtml = 'Like what you see? Visit the ' +\n",
              "            '<a target=\"_blank\" href=https://colab.research.google.com/notebooks/data_table.ipynb>data table notebook</a>'\n",
              "            + ' to learn more about interactive tables.';\n",
              "          element.innerHTML = '';\n",
              "          dataTable['output_type'] = 'display_data';\n",
              "          await google.colab.output.renderOutput(dataTable, element);\n",
              "          const docLink = document.createElement('div');\n",
              "          docLink.innerHTML = docLinkHtml;\n",
              "          element.appendChild(docLink);\n",
              "        }\n",
              "      </script>\n",
              "    </div>\n",
              "  </div>\n",
              "  "
            ]
          },
          "metadata": {},
          "execution_count": 36
        }
      ]
    },
    {
      "cell_type": "markdown",
      "metadata": {
        "id": "B4NeU9HCadM2"
      },
      "source": [
        "# Predict number of points scored by looking at minutes played"
      ]
    },
    {
      "cell_type": "code",
      "metadata": {
        "id": "Zq7GxTf6V8Fh"
      },
      "source": [
        "x_train, x_test, y_train, y_test = train_test_split(nba_df[['MIN']], nba_df[['PTS']], test_size=0.2, random_state=42)"
      ],
      "execution_count": 37,
      "outputs": []
    },
    {
      "cell_type": "code",
      "metadata": {
        "colab": {
          "base_uri": "https://localhost:8080/"
        },
        "id": "vr9NeE4WZa9G",
        "outputId": "df86d304-780d-4bd5-99f5-ffedfc257a23"
      },
      "source": [
        "from sklearn.linear_model import LinearRegression\n",
        "lr = LinearRegression()\n",
        "lr.fit(x_train, y_train)\n",
        "predictions = lr.predict(x_test)\n",
        "\n",
        "print(predictions)\n",
        "print(y_test)"
      ],
      "execution_count": 38,
      "outputs": [
        {
          "output_type": "stream",
          "name": "stdout",
          "text": [
            "[[ -59.56394301]\n",
            " [ 645.39009116]\n",
            " [ 117.4018221 ]\n",
            " [ 136.31049289]\n",
            " [ 837.87066308]\n",
            " [ 229.39933372]\n",
            " [ -63.44264471]\n",
            " [ 616.78466611]\n",
            " [ 459.69724722]\n",
            " [ 808.29556261]\n",
            " [  39.34295037]\n",
            " [ -68.29102184]\n",
            " [1070.10792743]\n",
            " [  60.67580972]\n",
            " [ 206.61196123]\n",
            " [ -50.83686418]\n",
            " [ 651.69298142]\n",
            " [1088.0469228 ]\n",
            " [ 154.73432597]\n",
            " [1169.98449623]\n",
            " [ 599.81534617]\n",
            " [ 696.29805099]\n",
            " [ 849.50676818]\n",
            " [ 472.30302775]\n",
            " [ 493.63588711]\n",
            " [ 513.51423332]\n",
            " [ 736.05474342]\n",
            " [ 150.85562427]\n",
            " [ 685.1467836 ]\n",
            " [1057.01730919]\n",
            " [ 897.02086402]\n",
            " [  30.13103383]\n",
            " [ 512.05972019]\n",
            " [ 909.14180683]\n",
            " [ 627.45109579]\n",
            " [  44.67616521]\n",
            " [ 923.68693821]\n",
            " [1057.98698461]\n",
            " [  -4.77728148]\n",
            " [ 370.00227038]\n",
            " [ 388.91094118]\n",
            " [ 927.56563991]\n",
            " [ -42.59462307]\n",
            " [ 673.51067849]\n",
            " [ -49.86718876]\n",
            " [ 736.05474342]\n",
            " [ -52.29137732]\n",
            " [ 159.09786539]\n",
            " [ -82.83615322]\n",
            " [ 875.20316695]\n",
            " [ 615.81499069]\n",
            " [ 496.06007567]\n",
            " [  72.79675254]\n",
            " [ 523.21098758]\n",
            " [ 449.51565526]\n",
            " [ 294.36758721]\n",
            " [ 500.9084528 ]\n",
            " [1063.80503716]\n",
            " [ 173.15815905]\n",
            " [1333.8596431 ]\n",
            " [ 941.62593358]\n",
            " [ 732.66087943]\n",
            " [ 349.15424874]\n",
            " [ 929.98982848]\n",
            " [ 674.96519163]\n",
            " [ 319.57914827]\n",
            " [ 720.05509891]\n",
            " [ 937.26239417]\n",
            " [1002.23064766]\n",
            " [ 727.81250231]\n",
            " [ 894.11183774]\n",
            " [ 518.84744816]\n",
            " [ 494.60556253]\n",
            " [1218.46826749]\n",
            " [ -66.8365087 ]\n",
            " [ 902.35407886]\n",
            " [ 369.03259496]\n",
            " [ 354.00262587]\n",
            " [ 444.66727813]\n",
            " [1004.16999851]\n",
            " [ 608.05758729]\n",
            " [ -51.80653961]\n",
            " [ 154.24948826]\n",
            " [1128.77329066]\n",
            " [ -34.35238195]]\n",
            "      PTS\n",
            "167    16\n",
            "387   580\n",
            "207   172\n",
            "431   145\n",
            "486   778\n",
            "..    ...\n",
            "63    966\n",
            "481    22\n",
            "26    194\n",
            "19   1130\n",
            "73     19\n",
            "\n",
            "[85 rows x 1 columns]\n"
          ]
        }
      ]
    },
    {
      "cell_type": "markdown",
      "metadata": {
        "id": "7mav3-FebH9G"
      },
      "source": [
        "# Display our coefficient of determination"
      ]
    },
    {
      "cell_type": "code",
      "metadata": {
        "colab": {
          "base_uri": "https://localhost:8080/"
        },
        "id": "2sJnH44wavJD",
        "outputId": "aab3733d-d228-4050-8adc-f77ef3ef405f"
      },
      "source": [
        "lr_confidence = lr.score(x_test, y_test)\n",
        "print(\"lr confidence: \", lr_confidence)"
      ],
      "execution_count": 39,
      "outputs": [
        {
          "output_type": "stream",
          "name": "stdout",
          "text": [
            "lr confidence:  0.8457382446875945\n"
          ]
        }
      ]
    },
    {
      "cell_type": "markdown",
      "metadata": {
        "id": "K1HYA1ep1EPr"
      },
      "source": [
        "# Predict number of blocks by looking at rebounds"
      ]
    },
    {
      "cell_type": "code",
      "metadata": {
        "id": "uD1nGiAn1M3M"
      },
      "source": [
        "a_train, a_test, b_train, b_test = train_test_split(nba_df[['BLK']], nba_df[['REB']], test_size=0.2, random_state=42)"
      ],
      "execution_count": 40,
      "outputs": []
    },
    {
      "cell_type": "code",
      "metadata": {
        "colab": {
          "base_uri": "https://localhost:8080/"
        },
        "id": "xVBq92vE1qeo",
        "outputId": "c07f0b8e-2464-4c76-c7f0-19ac8918db1c"
      },
      "source": [
        "lr = LinearRegression()\n",
        "lr.fit(a_train, b_train)\n",
        "predictions = lr.predict(a_test)\n",
        "\n",
        "print(predictions)\n",
        "print(b_test)"
      ],
      "execution_count": 41,
      "outputs": [
        {
          "output_type": "stream",
          "name": "stdout",
          "text": [
            "[[115.30372254]\n",
            " [211.76464813]\n",
            " [120.12676882]\n",
            " [134.59590766]\n",
            " [153.88809278]\n",
            " [163.53418534]\n",
            " [105.65762998]\n",
            " [163.53418534]\n",
            " [211.76464813]\n",
            " [231.05683325]\n",
            " [124.9498151 ]\n",
            " [105.65762998]\n",
            " [192.47246301]\n",
            " [105.65762998]\n",
            " [134.59590766]\n",
            " [110.48067626]\n",
            " [612.07748934]\n",
            " [308.22557373]\n",
            " [115.30372254]\n",
            " [192.47246301]\n",
            " [274.46424977]\n",
            " [173.1802779 ]\n",
            " [708.53841494]\n",
            " [308.22557373]\n",
            " [187.64941674]\n",
            " [221.41074069]\n",
            " [163.53418534]\n",
            " [182.82637046]\n",
            " [202.11855557]\n",
            " [163.53418534]\n",
            " [153.88809278]\n",
            " [134.59590766]\n",
            " [192.47246301]\n",
            " [462.56305468]\n",
            " [202.11855557]\n",
            " [163.53418534]\n",
            " [211.76464813]\n",
            " [274.46424977]\n",
            " [129.77286138]\n",
            " [356.45603652]\n",
            " [419.15563816]\n",
            " [197.29550929]\n",
            " [105.65762998]\n",
            " [173.1802779 ]\n",
            " [105.65762998]\n",
            " [467.38610096]\n",
            " [105.65762998]\n",
            " [197.29550929]\n",
            " [110.48067626]\n",
            " [390.21736048]\n",
            " [187.64941674]\n",
            " [110.48067626]\n",
            " [105.65762998]\n",
            " [134.59590766]\n",
            " [235.87987953]\n",
            " [163.53418534]\n",
            " [269.64120349]\n",
            " [153.88809278]\n",
            " [206.94160185]\n",
            " [206.94160185]\n",
            " [853.22980333]\n",
            " [173.1802779 ]\n",
            " [182.82637046]\n",
            " [226.23378697]\n",
            " [308.22557373]\n",
            " [115.30372254]\n",
            " [192.47246301]\n",
            " [192.47246301]\n",
            " [168.35723162]\n",
            " [115.30372254]\n",
            " [173.1802779 ]\n",
            " [158.71113906]\n",
            " [423.97868444]\n",
            " [737.47669262]\n",
            " [105.65762998]\n",
            " [153.88809278]\n",
            " [163.53418534]\n",
            " [231.05683325]\n",
            " [173.1802779 ]\n",
            " [322.69471257]\n",
            " [187.64941674]\n",
            " [110.48067626]\n",
            " [163.53418534]\n",
            " [843.58371077]\n",
            " [105.65762998]]\n",
            "      REB\n",
            "167     9\n",
            "387   197\n",
            "207    66\n",
            "431    48\n",
            "486   214\n",
            "..    ...\n",
            "63    264\n",
            "481     6\n",
            "26     82\n",
            "19   1104\n",
            "73     12\n",
            "\n",
            "[85 rows x 1 columns]\n"
          ]
        }
      ]
    },
    {
      "cell_type": "markdown",
      "metadata": {
        "id": "XFeik3q_2sng"
      },
      "source": [
        "# Display our coefficient of determination"
      ]
    },
    {
      "cell_type": "code",
      "metadata": {
        "colab": {
          "base_uri": "https://localhost:8080/"
        },
        "id": "-lj3NFA_17TM",
        "outputId": "219f0a7d-3376-4457-f8e3-5af0a96ff9af"
      },
      "source": [
        "lr_confidence = lr.score(a_test, b_test)\n",
        "print(\"lr confidence: \", lr_confidence)"
      ],
      "execution_count": 42,
      "outputs": [
        {
          "output_type": "stream",
          "name": "stdout",
          "text": [
            "lr confidence:  0.6555320275445402\n"
          ]
        }
      ]
    },
    {
      "cell_type": "markdown",
      "metadata": {
        "id": "csKeVztd1NPi"
      },
      "source": [
        "# Predict number of steals by looking at assists"
      ]
    },
    {
      "cell_type": "code",
      "metadata": {
        "id": "6W9g3Wky1RzM"
      },
      "source": [
        "c_train, c_test, d_train, d_test = train_test_split(nba_df[['STL']], nba_df[['AST']], test_size=0.2, random_state=42)"
      ],
      "execution_count": 43,
      "outputs": []
    },
    {
      "cell_type": "code",
      "metadata": {
        "colab": {
          "base_uri": "https://localhost:8080/"
        },
        "id": "usGwZZYE3FY2",
        "outputId": "e37878fe-8753-464d-ccf1-47806572c368"
      },
      "source": [
        "lr = LinearRegression()\n",
        "lr.fit(c_train, d_train)\n",
        "predictions = lr.predict(c_test)\n",
        "\n",
        "print(predictions)\n",
        "print(d_test)"
      ],
      "execution_count": 44,
      "outputs": [
        {
          "output_type": "stream",
          "name": "stdout",
          "text": [
            "[[  6.90192557]\n",
            " [ 83.41315697]\n",
            " [ 38.07316799]\n",
            " [ 55.07566386]\n",
            " [154.25688975]\n",
            " [ 69.24441041]\n",
            " [  6.90192557]\n",
            " [120.25189801]\n",
            " [ 46.57441592]\n",
            " [171.25938562]\n",
            " [ 29.57192006]\n",
            " [  6.90192557]\n",
            " [188.26188148]\n",
            " [ 26.73817074]\n",
            " [ 86.24690628]\n",
            " [ 18.23692281]\n",
            " [ 97.58190352]\n",
            " [148.58939113]\n",
            " [ 21.07067212]\n",
            " [264.77311288]\n",
            " [103.24940215]\n",
            " [131.58689526]\n",
            " [ 52.24191455]\n",
            " [ 46.57441592]\n",
            " [ 43.74066661]\n",
            " [ 86.24690628]\n",
            " [117.4181487 ]\n",
            " [ 46.57441592]\n",
            " [191.09563079]\n",
            " [213.76562528]\n",
            " [219.43312391]\n",
            " [ 26.73817074]\n",
            " [131.58689526]\n",
            " [137.25439388]\n",
            " [140.08814319]\n",
            " [ 32.40566937]\n",
            " [233.60187046]\n",
            " [179.76063355]\n",
            " [ 15.4031735 ]\n",
            " [ 63.57691179]\n",
            " [106.08315146]\n",
            " [324.28184842]\n",
            " [  9.73567488]\n",
            " [137.25439388]\n",
            " [  4.06817626]\n",
            " [103.24940215]\n",
            " [  6.90192557]\n",
            " [ 46.57441592]\n",
            " [  1.23442694]\n",
            " [125.91939664]\n",
            " [131.58689526]\n",
            " [225.10062253]\n",
            " [ 21.07067212]\n",
            " [ 91.9144049 ]\n",
            " [ 77.74565835]\n",
            " [ 89.08065559]\n",
            " [ 57.90941317]\n",
            " [346.95184291]\n",
            " [ 29.57192006]\n",
            " [276.10811013]\n",
            " [ 86.24690628]\n",
            " [222.26687322]\n",
            " [ 77.74565835]\n",
            " [151.42314044]\n",
            " [125.91939664]\n",
            " [ 86.24690628]\n",
            " [134.42064457]\n",
            " [216.59937459]\n",
            " [213.76562528]\n",
            " [ 94.74815421]\n",
            " [142.9218925 ]\n",
            " [ 91.9144049 ]\n",
            " [117.4181487 ]\n",
            " [199.59687873]\n",
            " [  4.06817626]\n",
            " [256.27186495]\n",
            " [ 29.57192006]\n",
            " [ 89.08065559]\n",
            " [123.08564733]\n",
            " [168.4256363 ]\n",
            " [114.58439939]\n",
            " [  4.06817626]\n",
            " [ 18.23692281]\n",
            " [208.09812666]\n",
            " [  4.06817626]]\n",
            "     AST\n",
            "167    3\n",
            "387   63\n",
            "207   38\n",
            "431  104\n",
            "486  276\n",
            "..   ...\n",
            "63   122\n",
            "481   18\n",
            "26    22\n",
            "19    55\n",
            "73     4\n",
            "\n",
            "[85 rows x 1 columns]\n"
          ]
        }
      ]
    },
    {
      "cell_type": "markdown",
      "metadata": {
        "id": "7ohPHSLB48av"
      },
      "source": [
        "# Display our coefficient of determination"
      ]
    },
    {
      "cell_type": "code",
      "metadata": {
        "colab": {
          "base_uri": "https://localhost:8080/"
        },
        "id": "uwrJrQ2V3MX6",
        "outputId": "15ced975-8815-4471-fff4-be1f1b5954bd"
      },
      "source": [
        "lr_confidence = lr.score(c_test, d_test)\n",
        "print(\"lr confidence: \", lr_confidence)"
      ],
      "execution_count": 45,
      "outputs": [
        {
          "output_type": "stream",
          "name": "stdout",
          "text": [
            "lr confidence:  0.5772317945331258\n"
          ]
        }
      ]
    }
  ]
}